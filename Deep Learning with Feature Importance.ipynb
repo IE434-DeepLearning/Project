{
 "cells": [
  {
   "cell_type": "code",
   "execution_count": 185,
   "id": "c112ac89",
   "metadata": {},
   "outputs": [],
   "source": [
    "import pandas as pd\n",
    "import pickle\n",
    "import warnings\n",
    "import seaborn as sns\n",
    "import matplotlib.pyplot as plt"
   ]
  },
  {
   "cell_type": "code",
   "execution_count": 52,
   "id": "7ec422be",
   "metadata": {},
   "outputs": [],
   "source": [
    "# import data for training\n",
    "df = pd.read_pickle('./Data/Cleandata/debug_training.pkl')"
   ]
  },
  {
   "cell_type": "code",
   "execution_count": 53,
   "id": "5d9cd7b1",
   "metadata": {},
   "outputs": [],
   "source": [
    "from sklearn.model_selection import train_test_split\n",
    "from sklearn.linear_model import LogisticRegression\n",
    "from sklearn.preprocessing import LabelEncoder, StandardScaler\n",
    "from sklearn.metrics import accuracy_score"
   ]
  },
  {
   "cell_type": "code",
   "execution_count": 54,
   "id": "da7e4827",
   "metadata": {},
   "outputs": [],
   "source": [
    "X = df[['borough', 'job_type', 'block', 'lot', 'zip_code', 'work_type', 'bldg_type',\n",
    "        \"owner's_business_type\", 'non-profit', 'latitude', 'longitude',\n",
    "        'council_district', 'issuance_year', 'issuance_month', 'issuance_day', 'job_start_year', 'job_start_month', \n",
    "        'job_start_day']]\n",
    "y = df['permit_type']"
   ]
  },
  {
   "cell_type": "code",
   "execution_count": 55,
   "id": "1fa05b00",
   "metadata": {},
   "outputs": [],
   "source": [
    "warnings.filterwarnings('ignore')\n",
    "\n",
    "le = LabelEncoder()\n",
    "X['borough'] = le.fit_transform(X['borough'])\n",
    "X['job_type'] = le.fit_transform(X['job_type'])\n",
    "X[\"owner's_business_type\"] = le.fit_transform(X[\"owner's_business_type\"])\n",
    "X['work_type'] = le.fit_transform(X['work_type'])\n",
    "X['bldg_type'] = le.fit_transform(X['bldg_type'])\n",
    "# X['block'] = le.fit_transform(X['block'])\n",
    "# X['lot'] = le.fit_transform(X['lot'])\n",
    "# X['zip_code'] = le.fit_transform(X['zip_code'])\n",
    "X['non-profit'] = le.fit_transform(X['non-profit'])"
   ]
  },
  {
   "cell_type": "code",
   "execution_count": 56,
   "id": "0cdcebb8",
   "metadata": {},
   "outputs": [],
   "source": [
    "#list for cols to scale\n",
    "cols_to_scale = ['block','lot', 'zip_code', 'latitude', 'longitude', 'council_district', 'issuance_year',\n",
    "                 'issuance_month', 'issuance_day', 'job_start_year', 'job_start_month', 'job_start_day']\n",
    "\n",
    "#create and fit scaler\n",
    "scaler = StandardScaler()\n",
    "\n",
    "#scale selected data\n",
    "X[cols_to_scale] = scaler.fit_transform(X[cols_to_scale])"
   ]
  },
  {
   "cell_type": "code",
   "execution_count": 57,
   "id": "42fd022c",
   "metadata": {},
   "outputs": [],
   "source": [
    "X_train, X_test, y_train, y_test = train_test_split(X, y, test_size=0.2, random_state=42)"
   ]
  },
  {
   "cell_type": "markdown",
   "id": "7911f47b",
   "metadata": {},
   "source": [
    "# Fit Deep Learning Model"
   ]
  },
  {
   "cell_type": "markdown",
   "id": "dd4fbc03",
   "metadata": {},
   "source": [
    "## Model Definition"
   ]
  },
  {
   "cell_type": "code",
   "execution_count": 58,
   "id": "e1ff73d0",
   "metadata": {},
   "outputs": [],
   "source": [
    "import torch\n",
    "import torch.nn as nn\n",
    "import torch.optim as optim\n",
    "from torch.utils.data import DataLoader"
   ]
  },
  {
   "cell_type": "code",
   "execution_count": 59,
   "id": "78189d55",
   "metadata": {},
   "outputs": [],
   "source": [
    "class RNN_Network(nn.Module):\n",
    "    def __init__(self, input_size, hidden_size, output_size):\n",
    "        super(RNN_Network, self).__init__()\n",
    "        self.rnn = nn.RNN(input_size, hidden_size, batch_first=True)\n",
    "        self.fc = nn.Linear(hidden_size, output_size)\n",
    "\n",
    "    def forward(self, x):\n",
    "        out, _ = self.rnn(x)\n",
    "        out = out[:, -1, :]  # Take the output from the last time step\n",
    "        out = self.fc(out)\n",
    "        return nn.functional.softmax(out, dim=1)"
   ]
  },
  {
   "cell_type": "code",
   "execution_count": 60,
   "id": "321a32d9",
   "metadata": {},
   "outputs": [],
   "source": [
    "# Instantiate the model with output_size=5\n",
    "model = RNN_Network(input_size=18, hidden_size=512, output_size=5)"
   ]
  },
  {
   "cell_type": "code",
   "execution_count": 61,
   "id": "3b1b598c",
   "metadata": {},
   "outputs": [],
   "source": [
    "# Cross-Entropy as loss function\n",
    "criterion = nn.CrossEntropyLoss()"
   ]
  },
  {
   "cell_type": "markdown",
   "id": "c46d85cc",
   "metadata": {},
   "source": [
    "## Preparing Data For Training"
   ]
  },
  {
   "cell_type": "code",
   "execution_count": 62,
   "id": "dbc99fd3",
   "metadata": {},
   "outputs": [],
   "source": [
    "# Assuming you have your data loaded and split as mentioned in your code\n",
    "X_tensor = torch.tensor(X.values, dtype=torch.float32)\n",
    "label_encoder = LabelEncoder()\n",
    "y_encoded = label_encoder.fit_transform(y)\n",
    "y_tensor = torch.tensor(y_encoded, dtype=torch.long)\n",
    "\n",
    "# Assuming you have loaded and split your test set\n",
    "X_test_tensor = torch.tensor(X_test.values, dtype=torch.float32)\n",
    "y_test_encoded = label_encoder.transform(y_test)\n",
    "y_test_tensor = torch.tensor(y_test_encoded, dtype=torch.long)\n",
    "\n",
    "# Creating TensorDatasets\n",
    "train_data = TensorDataset(X_tensor, y_tensor)\n",
    "test_data = TensorDataset(X_test_tensor, y_test_tensor)\n",
    "\n",
    "# Creating DataLoaders\n",
    "batch_size = 64\n",
    "train_loader = DataLoader(train_data, batch_size=batch_size, shuffle=True)\n",
    "test_loader = DataLoader(test_data, batch_size=batch_size)\n"
   ]
  },
  {
   "cell_type": "markdown",
   "id": "e390eab5",
   "metadata": {},
   "source": [
    "## Model Training"
   ]
  },
  {
   "cell_type": "code",
   "execution_count": 63,
   "id": "1201a1a4",
   "metadata": {},
   "outputs": [],
   "source": [
    "from sklearn.metrics import accuracy_score, f1_score\n",
    "def train_epoch(dataloader, model, criterion, optimizer):\n",
    "    model.train()\n",
    "    running_loss = 0.0\n",
    "    total_instances = 0\n",
    "\n",
    "    for batch, (X, y) in enumerate(dataloader):\n",
    "        X = X.unsqueeze(1)\n",
    "        pred = model(X)\n",
    "        loss = criterion(pred, y)\n",
    "        loss.backward()\n",
    "        optimizer.step()\n",
    "        optimizer.zero_grad()\n",
    "\n",
    "        running_loss += loss.item()\n",
    "        total_instances += len(y)\n",
    "\n",
    "    return running_loss, total_instances\n",
    "\n",
    "        \n",
    "def train_loop(dataloader, model, criterion, optimizer, epochs=1, print_every=1):\n",
    "    size = len(dataloader.dataset)\n",
    "\n",
    "    for epoch in range(epochs):\n",
    "        running_loss, total_instances = train_epoch(dataloader, model, criterion, optimizer)\n",
    "\n",
    "        # Print running loss if print_every is specified\n",
    "        if (epoch + 1) % print_every == 0:\n",
    "            print(f\"Epoch [{epoch + 1:>5d}/{epochs:>5d}] - Running Loss: {running_loss / total_instances:.6f}\")\n",
    "\n",
    "    print(f\"Training completed\\n-------------------------------\")\n",
    "\n",
    "    # Calculate F1 score and Accuracy on the training set\n",
    "    train_predictions, train_labels = [], []\n",
    "    model.eval()\n",
    "    with torch.no_grad():\n",
    "        for X_batch, y_batch in dataloader:\n",
    "            X_batch = X_batch.unsqueeze(1)\n",
    "            predictions = model(X_batch)\n",
    "            _, predicted = torch.max(predictions, 1)\n",
    "            train_predictions.extend(predicted.tolist())\n",
    "            train_labels.extend(y_batch.tolist())\n",
    "\n",
    "    train_accuracy = accuracy_score(train_labels, train_predictions)\n",
    "    train_f1 = f1_score(train_labels, train_predictions, average='weighted')\n",
    "\n",
    "    print(f\"Training Accuracy: {train_accuracy * 100:.2f}%\")\n",
    "    print(f\"Training F1 Score: {train_f1 * 100:.2f}%\")"
   ]
  },
  {
   "cell_type": "code",
   "execution_count": 64,
   "id": "6148ac34",
   "metadata": {},
   "outputs": [],
   "source": [
    "from sklearn.metrics import f1_score\n",
    "\n",
    "def test_loop(dataloader, model, criterion):\n",
    "    model.eval()\n",
    "    size = len(dataloader.dataset)\n",
    "    num_batches = len(dataloader)\n",
    "    test_loss, correct = 0, 0\n",
    "    total_instances = 0  # New variable to keep track of total instances processed\n",
    "\n",
    "    with torch.no_grad():\n",
    "        for X, y in dataloader:\n",
    "            X = X.unsqueeze(1)\n",
    "            pred = model(X)\n",
    "            test_loss += criterion(pred, y).item()\n",
    "            correct += (pred.argmax(1) == y).type(torch.float).sum().item()\n",
    "            total_instances += len(y)  # Increment total instances by the batch size\n",
    "\n",
    "    test_loss /= num_batches\n",
    "    correct /= total_instances  # Correct the calculation to divide by total instances\n",
    "    accuracy = correct * 100\n",
    "\n",
    "    # Calculate F1 score on the test set\n",
    "    test_predictions, test_labels = [], []\n",
    "    with torch.no_grad():\n",
    "        for X_batch, y_batch in dataloader:\n",
    "            X_batch = X_batch.unsqueeze(1)\n",
    "            predictions = model(X_batch)\n",
    "            _, predicted = torch.max(predictions, 1)\n",
    "            test_predictions.extend(predicted.tolist())\n",
    "            test_labels.extend(y_batch.tolist())\n",
    "\n",
    "    test_f1 = f1_score(test_labels, test_predictions, average='weighted')\n",
    "    print(f\"Test Error: \\n Accuracy: {accuracy:.3f}%, Avg loss: {test_loss:.8f}, F1 Score: {test_f1:.4f} \\n\")\n",
    "\n",
    "    return accuracy, test_f1"
   ]
  },
  {
   "cell_type": "code",
   "execution_count": 65,
   "id": "19cbfcdf",
   "metadata": {},
   "outputs": [
    {
     "name": "stdout",
     "output_type": "stream",
     "text": [
      "Epoch [    1/   10] - Running Loss: 0.019052\n",
      "Epoch [    2/   10] - Running Loss: 0.018739\n",
      "Epoch [    3/   10] - Running Loss: 0.018746\n",
      "Epoch [    4/   10] - Running Loss: 0.018729\n",
      "Epoch [    5/   10] - Running Loss: 0.018744\n",
      "Epoch [    6/   10] - Running Loss: 0.018745\n",
      "Epoch [    7/   10] - Running Loss: 0.018744\n",
      "Epoch [    8/   10] - Running Loss: 0.018744\n",
      "Epoch [    9/   10] - Running Loss: 0.018743\n",
      "Epoch [   10/   10] - Running Loss: 0.018728\n",
      "Training completed\n",
      "-------------------------------\n",
      "Training Accuracy: 70.82%\n",
      "Training F1 Score: 60.08%\n"
     ]
    }
   ],
   "source": [
    "# Optimizer with Adam\n",
    "model = RNN_Network(input_size=18, hidden_size=512, output_size=5)\n",
    "optimizer1 = torch.optim.Adam(model.parameters(), lr=0.001)\n",
    "epochs = 10 # Increase the number of Epochs as per the accuracy req.. Currently low for better runtime\n",
    "print_every = 1\n",
    "train_loop(train_loader, model, criterion, optimizer1, epochs, print_every)"
   ]
  },
  {
   "cell_type": "code",
   "execution_count": 66,
   "id": "5b9f4f74",
   "metadata": {},
   "outputs": [
    {
     "name": "stdout",
     "output_type": "stream",
     "text": [
      "Epoch [    1/   10] - Running Loss: 0.023058\n",
      "Epoch [    2/   10] - Running Loss: 0.021547\n",
      "Epoch [    3/   10] - Running Loss: 0.021242\n",
      "Epoch [    4/   10] - Running Loss: 0.021073\n",
      "Epoch [    5/   10] - Running Loss: 0.020837\n",
      "Epoch [    6/   10] - Running Loss: 0.020542\n",
      "Epoch [    7/   10] - Running Loss: 0.020309\n",
      "Epoch [    8/   10] - Running Loss: 0.020167\n",
      "Epoch [    9/   10] - Running Loss: 0.020023\n",
      "Epoch [   10/   10] - Running Loss: 0.019938\n",
      "Training completed\n",
      "-------------------------------\n",
      "Training Accuracy: 65.87%\n",
      "Training F1 Score: 55.74%\n"
     ]
    }
   ],
   "source": [
    "# Optimizer with SGD\n",
    "model = RNN_Network(input_size=18, hidden_size=512, output_size=5)\n",
    "optimizer2 = torch.optim.SGD(model.parameters(), lr=0.001)\n",
    "epochs = 10 # Increase the number of Epochs as per the accuracy req.. Currently low for better runtime\n",
    "print_every = 1\n",
    "train_loop(train_loader, model, criterion, optimizer2, epochs, print_every)"
   ]
  },
  {
   "cell_type": "code",
   "execution_count": null,
   "id": "bf48a70e",
   "metadata": {},
   "outputs": [],
   "source": []
  },
  {
   "cell_type": "markdown",
   "id": "3ccd8570",
   "metadata": {},
   "source": [
    "## No Batch Normalization Applied"
   ]
  },
  {
   "cell_type": "code",
   "execution_count": 138,
   "id": "f9615eaf",
   "metadata": {},
   "outputs": [],
   "source": [
    "class RNN_Network_NBN(nn.Module):\n",
    "    def __init__(self, input_size, hidden_size, output_size):\n",
    "        super(RNN_Network_NBN, self).__init__()\n",
    "        self.rnn = nn.RNN(input_size, hidden_size, batch_first=True)\n",
    "        self.fc = nn.Linear(hidden_size, output_size)\n",
    "\n",
    "    def forward(self, x):\n",
    "        out, _ = self.rnn(x)\n",
    "        \n",
    "        # Check the number of dimensions in the output tensor\n",
    "        if len(out.shape) == 3:\n",
    "            out = out[:, -1, :]  # Take the output from the last time step\n",
    "\n",
    "        out = self.fc(out)\n",
    "        return nn.functional.softmax(out, dim=1)"
   ]
  },
  {
   "cell_type": "code",
   "execution_count": 139,
   "id": "3f7b03e0",
   "metadata": {},
   "outputs": [],
   "source": [
    "model_NBN = RNN_Network_NBN(input_size=18, hidden_size=512, output_size=5)"
   ]
  },
  {
   "cell_type": "code",
   "execution_count": 140,
   "id": "fa5fa003",
   "metadata": {},
   "outputs": [],
   "source": [
    "# Cross-Entropy as loss function\n",
    "criterion = nn.CrossEntropyLoss()\n",
    "# Adam as optimizer\n",
    "optimizer = torch.optim.Adam(model_NBN.parameters(), lr=0.001)"
   ]
  },
  {
   "cell_type": "markdown",
   "id": "3b3f0fba",
   "metadata": {},
   "source": [
    "### Batch Size, n=64"
   ]
  },
  {
   "cell_type": "code",
   "execution_count": 141,
   "id": "403a773b",
   "metadata": {},
   "outputs": [],
   "source": [
    "batch_size = 64\n",
    "train_loader = DataLoader(train_data, batch_size=batch_size, shuffle=True)\n",
    "test_loader = DataLoader(test_data, batch_size=batch_size)"
   ]
  },
  {
   "cell_type": "code",
   "execution_count": 142,
   "id": "bba1e5e3",
   "metadata": {
    "scrolled": true
   },
   "outputs": [
    {
     "name": "stdout",
     "output_type": "stream",
     "text": [
      "Epoch [1/10], Batch [1/475], Loss: 1.5980\n",
      "Epoch [1/10], Batch [101/475], Loss: 1.1872\n",
      "Epoch [1/10], Batch [201/475], Loss: 1.2962\n",
      "Epoch [1/10], Batch [301/475], Loss: 1.3581\n",
      "Epoch [1/10], Batch [401/475], Loss: 1.3269\n",
      "Epoch [1/10], Loss: 1.9043\n",
      "Epoch [2/10], Batch [1/475], Loss: 1.1755\n",
      "Epoch [2/10], Batch [101/475], Loss: 1.3114\n",
      "Epoch [2/10], Batch [201/475], Loss: 1.4049\n",
      "Epoch [2/10], Batch [301/475], Loss: 1.4361\n",
      "Epoch [2/10], Batch [401/475], Loss: 1.3423\n",
      "Epoch [2/10], Loss: 0.9254\n",
      "Epoch [3/10], Batch [1/475], Loss: 1.3579\n",
      "Epoch [3/10], Batch [101/475], Loss: 1.3892\n",
      "Epoch [3/10], Batch [201/475], Loss: 1.4205\n",
      "Epoch [3/10], Batch [301/475], Loss: 1.3580\n",
      "Epoch [3/10], Batch [401/475], Loss: 1.2486\n",
      "Epoch [3/10], Loss: 0.9294\n",
      "Epoch [4/10], Batch [1/475], Loss: 1.4361\n",
      "Epoch [4/10], Batch [101/475], Loss: 1.4205\n",
      "Epoch [4/10], Batch [201/475], Loss: 1.2955\n",
      "Epoch [4/10], Batch [301/475], Loss: 1.3267\n",
      "Epoch [4/10], Batch [401/475], Loss: 1.2642\n",
      "Epoch [4/10], Loss: 1.4048\n",
      "Epoch [5/10], Batch [1/475], Loss: 1.3580\n",
      "Epoch [5/10], Batch [101/475], Loss: 1.3732\n",
      "Epoch [5/10], Batch [201/475], Loss: 1.2798\n",
      "Epoch [5/10], Batch [301/475], Loss: 1.1377\n",
      "Epoch [5/10], Batch [401/475], Loss: 1.2131\n",
      "Epoch [5/10], Loss: 1.4048\n",
      "Epoch [6/10], Batch [1/475], Loss: 1.2403\n",
      "Epoch [6/10], Batch [101/475], Loss: 1.1706\n",
      "Epoch [6/10], Batch [201/475], Loss: 1.0370\n",
      "Epoch [6/10], Batch [301/475], Loss: 1.2206\n",
      "Epoch [6/10], Batch [401/475], Loss: 1.2143\n",
      "Epoch [6/10], Loss: 0.9053\n",
      "Epoch [7/10], Batch [1/475], Loss: 1.2681\n",
      "Epoch [7/10], Batch [101/475], Loss: 1.1238\n",
      "Epoch [7/10], Batch [201/475], Loss: 1.2486\n",
      "Epoch [7/10], Batch [301/475], Loss: 1.1908\n",
      "Epoch [7/10], Batch [401/475], Loss: 1.2645\n",
      "Epoch [7/10], Loss: 1.4053\n",
      "Epoch [8/10], Batch [1/475], Loss: 1.2340\n",
      "Epoch [8/10], Batch [101/475], Loss: 1.1862\n",
      "Epoch [8/10], Batch [201/475], Loss: 1.2332\n",
      "Epoch [8/10], Batch [301/475], Loss: 1.1862\n",
      "Epoch [8/10], Batch [401/475], Loss: 1.1646\n",
      "Epoch [8/10], Loss: 1.4016\n",
      "Epoch [9/10], Batch [1/475], Loss: 1.2151\n",
      "Epoch [9/10], Batch [101/475], Loss: 1.1705\n",
      "Epoch [9/10], Batch [201/475], Loss: 1.1705\n",
      "Epoch [9/10], Batch [301/475], Loss: 1.2019\n",
      "Epoch [9/10], Batch [401/475], Loss: 1.2018\n",
      "Epoch [9/10], Loss: 0.9056\n",
      "Epoch [10/10], Batch [1/475], Loss: 1.2490\n",
      "Epoch [10/10], Batch [101/475], Loss: 1.2643\n",
      "Epoch [10/10], Batch [201/475], Loss: 1.2326\n",
      "Epoch [10/10], Batch [301/475], Loss: 1.1081\n",
      "Epoch [10/10], Batch [401/475], Loss: 1.2330\n",
      "Epoch [10/10], Loss: 0.9048\n"
     ]
    }
   ],
   "source": [
    "num_epochs = 10  # Number of training epochs. Adjust as needed.\n",
    "\n",
    "for epoch in range(num_epochs):\n",
    "    model_NBN.train()  # Set the model to training mode\n",
    "    for batch_idx, (X_batch, y_batch) in enumerate(train_loader):\n",
    "        # Forward pass: Compute predictions and loss\n",
    "        outputs = model_NBN(X_batch)\n",
    "        loss = criterion(outputs, y_batch)\n",
    "\n",
    "        # Backward pass: Compute gradient and update weights\n",
    "        optimizer.zero_grad()  # Clear existing gradients\n",
    "        loss.backward()       # Backpropagation\n",
    "        optimizer.step()      # Update weights\n",
    "\n",
    "        if batch_idx % 100 == 0:\n",
    "            print(f'Epoch [{epoch+1}/{num_epochs}], Batch [{batch_idx+1}/{len(train_loader)}], Loss: {loss.item():.4f}')\n",
    "\n",
    "    print(f'Epoch [{epoch+1}/{num_epochs}], Loss: {loss.item():.4f}')"
   ]
  },
  {
   "cell_type": "code",
   "execution_count": 143,
   "id": "59b745de",
   "metadata": {},
   "outputs": [
    {
     "name": "stdout",
     "output_type": "stream",
     "text": [
      "Test Accuracy: 71.44%\n"
     ]
    }
   ],
   "source": [
    "model_NBN.eval() \n",
    "with torch.no_grad():\n",
    "    correct = 0\n",
    "    total = 0\n",
    "    for X_batch, y_batch in test_loader:\n",
    "        outputs = model_NBN(X_batch)\n",
    "        _, predicted = torch.max(outputs.data, 1)\n",
    "        total += y_batch.size(0)\n",
    "        correct += (predicted == y_batch).sum().item()\n",
    "\n",
    "accuracy = correct / total\n",
    "accuracy_percentage = accuracy * 100\n",
    "\n",
    "print(f'Test Accuracy: {accuracy_percentage:.2f}%')\n"
   ]
  },
  {
   "cell_type": "markdown",
   "id": "439c580f",
   "metadata": {},
   "source": [
    "### Batch Size, n=256"
   ]
  },
  {
   "cell_type": "code",
   "execution_count": 145,
   "id": "3d268587",
   "metadata": {},
   "outputs": [],
   "source": [
    "batch_size = 256 \n",
    "train_loader = DataLoader(train_data, batch_size=batch_size, shuffle=True)\n",
    "test_loader = DataLoader(test_data, batch_size=batch_size)"
   ]
  },
  {
   "cell_type": "code",
   "execution_count": 146,
   "id": "3d579ad7",
   "metadata": {},
   "outputs": [
    {
     "name": "stdout",
     "output_type": "stream",
     "text": [
      "Epoch [1/10], Batch [1/119], Loss: 1.1978\n",
      "Epoch [1/10], Batch [101/119], Loss: 1.1978\n",
      "Epoch [1/10], Loss: 1.1587\n",
      "Epoch [2/10], Batch [1/119], Loss: 1.1628\n",
      "Epoch [2/10], Batch [101/119], Loss: 1.1784\n",
      "Epoch [2/10], Loss: 1.1818\n",
      "Epoch [3/10], Batch [1/119], Loss: 1.1783\n",
      "Epoch [3/10], Batch [101/119], Loss: 1.2134\n",
      "Epoch [3/10], Loss: 1.2125\n",
      "Epoch [4/10], Batch [1/119], Loss: 1.1509\n",
      "Epoch [4/10], Batch [101/119], Loss: 1.1471\n",
      "Epoch [4/10], Loss: 1.1895\n",
      "Epoch [5/10], Batch [1/119], Loss: 1.2371\n",
      "Epoch [5/10], Batch [101/119], Loss: 1.1706\n",
      "Epoch [5/10], Loss: 1.1664\n",
      "Epoch [6/10], Batch [1/119], Loss: 1.2095\n",
      "Epoch [6/10], Batch [101/119], Loss: 1.2056\n",
      "Epoch [6/10], Loss: 1.1818\n",
      "Epoch [7/10], Batch [1/119], Loss: 1.1705\n",
      "Epoch [7/10], Batch [101/119], Loss: 1.2174\n",
      "Epoch [7/10], Loss: 1.1433\n",
      "Epoch [8/10], Batch [1/119], Loss: 1.1588\n",
      "Epoch [8/10], Batch [101/119], Loss: 1.1939\n",
      "Epoch [8/10], Loss: 1.1972\n",
      "Epoch [9/10], Batch [1/119], Loss: 1.1939\n",
      "Epoch [9/10], Batch [101/119], Loss: 1.2095\n",
      "Epoch [9/10], Loss: 1.1279\n",
      "Epoch [10/10], Batch [1/119], Loss: 1.1705\n",
      "Epoch [10/10], Batch [101/119], Loss: 1.2330\n",
      "Epoch [10/10], Loss: 1.2279\n"
     ]
    }
   ],
   "source": [
    "num_epochs = 10  # Number of training epochs. Adjust as needed.\n",
    "\n",
    "for epoch in range(num_epochs):\n",
    "    model_NBN.train()  # Set the model to training mode\n",
    "    for batch_idx, (X_batch, y_batch) in enumerate(train_loader):\n",
    "        # Forward pass: Compute predictions and loss\n",
    "        outputs = model_NBN(X_batch)\n",
    "        loss = criterion(outputs, y_batch)\n",
    "\n",
    "        # Backward pass: Compute gradient and update weights\n",
    "        optimizer.zero_grad()  # Clear existing gradients\n",
    "        loss.backward()       # Backpropagation\n",
    "        optimizer.step()      # Update weights\n",
    "\n",
    "        if batch_idx % 100 == 0:\n",
    "            print(f'Epoch [{epoch+1}/{num_epochs}], Batch [{batch_idx+1}/{len(train_loader)}], Loss: {loss.item():.4f}')\n",
    "\n",
    "    print(f'Epoch [{epoch+1}/{num_epochs}], Loss: {loss.item():.4f}')\n"
   ]
  },
  {
   "cell_type": "code",
   "execution_count": 147,
   "id": "85c92111",
   "metadata": {},
   "outputs": [
    {
     "name": "stdout",
     "output_type": "stream",
     "text": [
      "Test Accuracy: 71.46%\n"
     ]
    }
   ],
   "source": [
    "model_NBN.eval() \n",
    "with torch.no_grad():\n",
    "    correct = 0\n",
    "    total = 0\n",
    "    for X_batch, y_batch in test_loader:\n",
    "        outputs = model_NBN(X_batch)\n",
    "        _, predicted = torch.max(outputs.data, 1)\n",
    "        total += y_batch.size(0)\n",
    "        correct += (predicted == y_batch).sum().item()\n",
    "\n",
    "accuracy = correct / total\n",
    "accuracy_percentage = accuracy * 100\n",
    "\n",
    "print(f'Test Accuracy: {accuracy_percentage:.2f}%')\n"
   ]
  },
  {
   "cell_type": "markdown",
   "id": "b6b70049",
   "metadata": {},
   "source": [
    "## Batch Normalization Applied"
   ]
  },
  {
   "cell_type": "code",
   "execution_count": 148,
   "id": "49c04778",
   "metadata": {},
   "outputs": [],
   "source": [
    "import torch.nn.functional as F\n",
    "\n",
    "class RNN_Network_BN(nn.Module):\n",
    "    def __init__(self, input_size, hidden_size, output_size):\n",
    "        super(RNN_Network_BN, self).__init__()\n",
    "        self.rnn = nn.RNN(input_size, hidden_size, batch_first=True)\n",
    "        self.batch_norm = nn.BatchNorm1d(hidden_size)\n",
    "        self.fc = nn.Linear(hidden_size, output_size)\n",
    "\n",
    "    def forward(self, x):\n",
    "        out, _ = self.rnn(x)\n",
    "        \n",
    "        # Check if out is 3D or 2D\n",
    "        if len(out.size()) == 3:\n",
    "            # Reshape the output to (batch_size * sequence_length, hidden_size)\n",
    "            batch_size, sequence_length, hidden_size = out.size()\n",
    "            out = out.view(-1, hidden_size)\n",
    "        else:\n",
    "            # out is already 2D, no need to reshape\n",
    "            batch_size, hidden_size = out.size()\n",
    "            sequence_length = 1  # Set sequence_length to 1 for 2D case\n",
    "\n",
    "        out = self.batch_norm(out)  # Apply batch normalization to RNN output\n",
    "        \n",
    "        # Reshape back to (batch_size, sequence_length, hidden_size) if it was 3D\n",
    "        if len(out.size()) == 2:\n",
    "            out = out.view(batch_size, sequence_length, hidden_size)\n",
    "        \n",
    "        out = out[:, -1, :]  # Take the output from the last time step\n",
    "        out = self.fc(out)\n",
    "        return F.softmax(out, dim=1)\n",
    "\n"
   ]
  },
  {
   "cell_type": "code",
   "execution_count": 149,
   "id": "07c2d2c9",
   "metadata": {},
   "outputs": [],
   "source": [
    "model_BN = RNN_Network_BN(input_size=18, hidden_size=512, output_size=5)"
   ]
  },
  {
   "cell_type": "code",
   "execution_count": 150,
   "id": "7d59aac7",
   "metadata": {},
   "outputs": [],
   "source": [
    "# Cross-Entropy as loss function\n",
    "criterion = nn.CrossEntropyLoss()\n",
    "# Adam as optimizer\n",
    "optimizer = torch.optim.Adam(model_BN.parameters(), lr=0.001)"
   ]
  },
  {
   "cell_type": "markdown",
   "id": "bd804007",
   "metadata": {},
   "source": [
    "### Batch Size, n=64"
   ]
  },
  {
   "cell_type": "code",
   "execution_count": 151,
   "id": "84d3a796",
   "metadata": {},
   "outputs": [
    {
     "name": "stdout",
     "output_type": "stream",
     "text": [
      "Epoch [1/10], Loss: 1.1596\n",
      "Epoch [2/10], Loss: 1.1792\n",
      "Epoch [3/10], Loss: 1.1891\n",
      "Epoch [4/10], Loss: 1.0554\n",
      "Epoch [5/10], Loss: 1.1214\n",
      "Epoch [6/10], Loss: 1.1228\n",
      "Epoch [7/10], Loss: 1.2067\n",
      "Epoch [8/10], Loss: 1.1441\n",
      "Epoch [9/10], Loss: 1.0900\n",
      "Epoch [10/10], Loss: 1.1129\n"
     ]
    }
   ],
   "source": [
    "batch_size = 64 \n",
    "\n",
    "num_epochs = 10  # Number of training epochs. Adjust as needed.\n",
    "\n",
    "for epoch in range(num_epochs):\n",
    "    model_BN.train()  # Set the model to training mode\n",
    "    for X_batch, y_batch in train_loader:\n",
    "        # Forward pass: Compute predictions and loss\n",
    "        outputs = model_BN(X_batch)\n",
    "        loss = criterion(outputs, y_batch)\n",
    "\n",
    "        # Backward pass: Compute gradient and update weights\n",
    "        optimizer.zero_grad()  # Clear existing gradients\n",
    "        loss.backward()       # Backpropagation\n",
    "        optimizer.step()      # Update weights\n",
    "\n",
    "    print(f'Epoch [{epoch+1}/{num_epochs}], Loss: {loss.item():.4f}')\n"
   ]
  },
  {
   "cell_type": "code",
   "execution_count": 152,
   "id": "ba7c4b0c",
   "metadata": {},
   "outputs": [
    {
     "name": "stdout",
     "output_type": "stream",
     "text": [
      "Test Accuracy: 75.74%\n"
     ]
    }
   ],
   "source": [
    "model_BN.eval() \n",
    "with torch.no_grad():\n",
    "    correct = 0\n",
    "    total = 0\n",
    "    for X_batch, y_batch in test_loader:\n",
    "        outputs = model_BN(X_batch)\n",
    "        _, predicted = torch.max(outputs.data, 1)\n",
    "        total += y_batch.size(0)\n",
    "        correct += (predicted == y_batch).sum().item()\n",
    "\n",
    "accuracy = correct / total\n",
    "accuracy_percentage = accuracy * 100\n",
    "\n",
    "print(f'Test Accuracy: {accuracy_percentage:.2f}%')\n"
   ]
  },
  {
   "cell_type": "markdown",
   "id": "b358b4a6",
   "metadata": {},
   "source": [
    "### Batch Size, n=256"
   ]
  },
  {
   "cell_type": "code",
   "execution_count": 159,
   "id": "6583d724",
   "metadata": {},
   "outputs": [
    {
     "name": "stdout",
     "output_type": "stream",
     "text": [
      "Epoch [1/10], Loss: 1.5701\n",
      "Epoch [2/10], Loss: 1.7455\n",
      "Epoch [3/10], Loss: 1.4675\n",
      "Epoch [4/10], Loss: 1.6130\n",
      "Epoch [5/10], Loss: 1.6069\n",
      "Epoch [6/10], Loss: 1.6770\n",
      "Epoch [7/10], Loss: 1.6145\n",
      "Epoch [8/10], Loss: 1.5891\n",
      "Epoch [9/10], Loss: 1.6688\n",
      "Epoch [10/10], Loss: 1.5966\n"
     ]
    }
   ],
   "source": [
    "model_BN = RNN_Network_BN(input_size=18, hidden_size=512, output_size=5)\n",
    "\n",
    "batch_size = 256 \n",
    "\n",
    "num_epochs = 10  # Number of training epochs. Adjust as needed.\n",
    "\n",
    "for epoch in range(num_epochs):\n",
    "    model_BN.train()  # Set the model to training mode\n",
    "    for X_batch, y_batch in train_loader:\n",
    "        # Forward pass: Compute predictions and loss\n",
    "        outputs = model_BN(X_batch)\n",
    "        loss = criterion(outputs, y_batch)\n",
    "\n",
    "        # Backward pass: Compute gradient and update weights\n",
    "        optimizer.zero_grad()  # Clear existing gradients\n",
    "        loss.backward()       # Backpropagation\n",
    "        optimizer.step()      # Update weights\n",
    "\n",
    "    print(f'Epoch [{epoch+1}/{num_epochs}], Loss: {loss.item():.4f}')\n"
   ]
  },
  {
   "cell_type": "code",
   "execution_count": 160,
   "id": "573db58f",
   "metadata": {},
   "outputs": [
    {
     "name": "stdout",
     "output_type": "stream",
     "text": [
      "Test Accuracy: 17.58%\n"
     ]
    }
   ],
   "source": [
    "model_BN.eval() \n",
    "with torch.no_grad():\n",
    "    correct = 0\n",
    "    total = 0\n",
    "    for X_batch, y_batch in test_loader:\n",
    "        outputs = model_BN(X_batch)\n",
    "        _, predicted = torch.max(outputs.data, 1)\n",
    "        total += y_batch.size(0)\n",
    "        correct += (predicted == y_batch).sum().item()\n",
    "\n",
    "accuracy = correct / total\n",
    "accuracy_percentage = accuracy * 100\n",
    "\n",
    "print(f'Test Accuracy: {accuracy_percentage:.2f}%')\n"
   ]
  },
  {
   "cell_type": "markdown",
   "id": "a8c7a16b",
   "metadata": {},
   "source": [
    "# Feature Importance Analysis\n",
    "Procedures:\n",
    "1. Randomly shuffle the values of each feature at a time on test data set.\n",
    "2. Measure how much the performance drops.\\\n",
    "\n",
    "A significant drop indicates the feature is important."
   ]
  },
  {
   "cell_type": "code",
   "execution_count": 164,
   "id": "15f8e88f",
   "metadata": {},
   "outputs": [],
   "source": [
    "def shuffle_feature(original_loader, feature_index):\n",
    "    # Extracting tensors from the original DataLoader's dataset\n",
    "    X, y = original_loader.dataset.tensors\n",
    "\n",
    "    # Making a copy of the tensors\n",
    "    X_shuffled = X.clone()\n",
    "\n",
    "    # Shuffling the specified feature\n",
    "    X_shuffled[:, feature_index] = X_shuffled[torch.randperm(X_shuffled.size(0)), feature_index]\n",
    "\n",
    "    # Creating a new DataLoader with the shuffled data\n",
    "    shuffled_loader = DataLoader(TensorDataset(X_shuffled, y), batch_size=batch_size)\n",
    "\n",
    "    return shuffled_loader\n"
   ]
  },
  {
   "cell_type": "code",
   "execution_count": 181,
   "id": "52f3bde8",
   "metadata": {},
   "outputs": [],
   "source": [
    "def feature_importance(test_loader, model, criterion, X_train, batch_size):\n",
    "    original_accuracy = test_loop(test_loader, model, criterion)\n",
    "    importances = []\n",
    "    \n",
    "    #print(f\"X_train.shape: {X_train.size()}\")\n",
    "\n",
    "    for i in range(X_train.shape[1]):\n",
    "        shuffled_loader = shuffle_feature(test_loader, i)\n",
    "        shuffled_accuracy = test_loop(shuffled_loader, model, criterion)\n",
    "\n",
    "        importance = original_accuracy[0] - shuffled_accuracy[0]\n",
    "        importances.append(importance)\n",
    "\n",
    "    return importances\n"
   ]
  },
  {
   "cell_type": "code",
   "execution_count": 166,
   "id": "063a6345",
   "metadata": {
    "scrolled": true
   },
   "outputs": [
    {
     "name": "stdout",
     "output_type": "stream",
     "text": [
      "Epoch 1\n",
      "-------------------------------\n",
      "Epoch [    1/    1] - Running Loss: 0.019096\n",
      "Training completed\n",
      "-------------------------------\n",
      "Training Accuracy: 70.80%\n",
      "Training F1 Score: 60.06%\n",
      "Test Error: \n",
      " Accuracy: 71.424%, Avg loss: 1.19223612, F1 Score: 0.6089 \n",
      "\n",
      "Epoch 2\n",
      "-------------------------------\n",
      "Epoch [    1/    1] - Running Loss: 0.018754\n",
      "Training completed\n",
      "-------------------------------\n",
      "Training Accuracy: 70.82%\n",
      "Training F1 Score: 60.08%\n",
      "Test Error: \n",
      " Accuracy: 71.457%, Avg loss: 1.19073627, F1 Score: 0.6092 \n",
      "\n",
      "Epoch 3\n",
      "-------------------------------\n",
      "Epoch [    1/    1] - Running Loss: 0.018730\n",
      "Training completed\n",
      "-------------------------------\n",
      "Training Accuracy: 70.82%\n",
      "Training F1 Score: 60.08%\n",
      "Test Error: \n",
      " Accuracy: 71.457%, Avg loss: 1.19053065, F1 Score: 0.6092 \n",
      "\n",
      "Epoch 4\n",
      "-------------------------------\n",
      "Epoch [    1/    1] - Running Loss: 0.018745\n",
      "Training completed\n",
      "-------------------------------\n",
      "Training Accuracy: 70.82%\n",
      "Training F1 Score: 60.08%\n",
      "Test Error: \n",
      " Accuracy: 71.457%, Avg loss: 1.19049063, F1 Score: 0.6092 \n",
      "\n",
      "Epoch 5\n",
      "-------------------------------\n",
      "Epoch [    1/    1] - Running Loss: 0.018744\n",
      "Training completed\n",
      "-------------------------------\n",
      "Training Accuracy: 70.82%\n",
      "Training F1 Score: 60.08%\n",
      "Test Error: \n",
      " Accuracy: 71.457%, Avg loss: 1.19045009, F1 Score: 0.6092 \n",
      "\n",
      "Epoch 6\n",
      "-------------------------------\n",
      "Epoch [    1/    1] - Running Loss: 0.018728\n",
      "Training completed\n",
      "-------------------------------\n",
      "Training Accuracy: 70.34%\n",
      "Training F1 Score: 59.64%\n",
      "Test Error: \n",
      " Accuracy: 70.962%, Avg loss: 1.19505276, F1 Score: 0.6046 \n",
      "\n",
      "Epoch 7\n",
      "-------------------------------\n",
      "Epoch [    1/    1] - Running Loss: 0.018730\n",
      "Training completed\n",
      "-------------------------------\n",
      "Training Accuracy: 70.82%\n",
      "Training F1 Score: 60.08%\n",
      "Test Error: \n",
      " Accuracy: 71.457%, Avg loss: 1.19042767, F1 Score: 0.6092 \n",
      "\n",
      "Epoch 8\n",
      "-------------------------------\n",
      "Epoch [    1/    1] - Running Loss: 0.018743\n",
      "Training completed\n",
      "-------------------------------\n",
      "Training Accuracy: 70.82%\n",
      "Training F1 Score: 60.08%\n",
      "Test Error: \n",
      " Accuracy: 71.457%, Avg loss: 1.19042547, F1 Score: 0.6092 \n",
      "\n",
      "Epoch 9\n",
      "-------------------------------\n",
      "Epoch [    1/    1] - Running Loss: 0.018744\n",
      "Training completed\n",
      "-------------------------------\n",
      "Training Accuracy: 70.82%\n",
      "Training F1 Score: 60.08%\n",
      "Test Error: \n",
      " Accuracy: 71.457%, Avg loss: 1.19043292, F1 Score: 0.6092 \n",
      "\n",
      "Epoch 10\n",
      "-------------------------------\n",
      "Epoch [    1/    1] - Running Loss: 0.018743\n",
      "Training completed\n",
      "-------------------------------\n",
      "Training Accuracy: 70.82%\n",
      "Training F1 Score: 60.08%\n",
      "Test Error: \n",
      " Accuracy: 71.457%, Avg loss: 1.19043210, F1 Score: 0.6092 \n",
      "\n",
      "Done!\n"
     ]
    }
   ],
   "source": [
    "model = RNN_Network(input_size=18, hidden_size=512, output_size=5)\n",
    "opt = torch.optim.Adam(model.parameters(), lr=0.001)\n",
    "# Need to update the train, test loader. Because shuffle is not invertible.\n",
    "batch_size = 64\n",
    "train_loader = DataLoader(train_data, batch_size=batch_size, shuffle=True)\n",
    "test_loader = DataLoader(test_data, batch_size=batch_size)\n",
    "epochs = 10\n",
    "for t in range(epochs):\n",
    "    print(f\"Epoch {t+1}\\n-------------------------------\")\n",
    "    train_loop(train_loader, model, criterion, opt)\n",
    "    test_loop(test_loader, model, criterion)\n",
    "print(\"Done!\")"
   ]
  },
  {
   "cell_type": "code",
   "execution_count": 183,
   "id": "06b5dc23",
   "metadata": {
    "scrolled": true
   },
   "outputs": [
    {
     "name": "stdout",
     "output_type": "stream",
     "text": [
      "Test Error: \n",
      " Accuracy: 71.457%, Avg loss: 1.19043210, F1 Score: 0.6092 \n",
      "\n",
      "Test Error: \n",
      " Accuracy: 71.457%, Avg loss: 1.19042883, F1 Score: 0.6092 \n",
      "\n",
      "Test Error: \n",
      " Accuracy: 71.457%, Avg loss: 1.19060194, F1 Score: 0.6092 \n",
      "\n",
      "Test Error: \n",
      " Accuracy: 71.457%, Avg loss: 1.19043213, F1 Score: 0.6092 \n",
      "\n",
      "Test Error: \n",
      " Accuracy: 71.440%, Avg loss: 1.19057885, F1 Score: 0.6090 \n",
      "\n",
      "Test Error: \n",
      " Accuracy: 71.457%, Avg loss: 1.19043277, F1 Score: 0.6092 \n",
      "\n",
      "Test Error: \n",
      " Accuracy: 47.759%, Avg loss: 1.42729979, F1 Score: 0.3982 \n",
      "\n",
      "Test Error: \n",
      " Accuracy: 71.457%, Avg loss: 1.19043174, F1 Score: 0.6092 \n",
      "\n",
      "Test Error: \n",
      " Accuracy: 71.457%, Avg loss: 1.19043650, F1 Score: 0.6092 \n",
      "\n",
      "Test Error: \n",
      " Accuracy: 71.457%, Avg loss: 1.19042879, F1 Score: 0.6092 \n",
      "\n",
      "Test Error: \n",
      " Accuracy: 71.457%, Avg loss: 1.19043026, F1 Score: 0.6092 \n",
      "\n",
      "Test Error: \n",
      " Accuracy: 71.457%, Avg loss: 1.19043333, F1 Score: 0.6092 \n",
      "\n",
      "Test Error: \n",
      " Accuracy: 71.457%, Avg loss: 1.19043133, F1 Score: 0.6092 \n",
      "\n",
      "Test Error: \n",
      " Accuracy: 71.457%, Avg loss: 1.19046152, F1 Score: 0.6092 \n",
      "\n",
      "Test Error: \n",
      " Accuracy: 71.457%, Avg loss: 1.19043116, F1 Score: 0.6092 \n",
      "\n",
      "Test Error: \n",
      " Accuracy: 71.457%, Avg loss: 1.19044099, F1 Score: 0.6092 \n",
      "\n",
      "Test Error: \n",
      " Accuracy: 71.457%, Avg loss: 1.19043442, F1 Score: 0.6092 \n",
      "\n",
      "Test Error: \n",
      " Accuracy: 71.457%, Avg loss: 1.19043178, F1 Score: 0.6092 \n",
      "\n",
      "Test Error: \n",
      " Accuracy: 71.457%, Avg loss: 1.19043495, F1 Score: 0.6092 \n",
      "\n",
      "Feature importances: [0.0, 0.0, 0.0, 0.016479894528686145, 0.0, 23.698088332234683, 0.0, 0.0, 0.0, 0.0, 0.0, 0.0, 0.0, 0.0, 0.0, 0.0, 0.0, 0.0]\n",
      "\n",
      "Most important features:\n",
      "Feature_5: 23.6981\n",
      "Feature_3: 0.0165\n",
      "Feature_0: 0.0000\n",
      "Feature_1: 0.0000\n",
      "Feature_2: 0.0000\n",
      "Feature_4: 0.0000\n",
      "Feature_6: 0.0000\n",
      "Feature_7: 0.0000\n",
      "Feature_8: 0.0000\n",
      "Feature_9: 0.0000\n",
      "Feature_10: 0.0000\n",
      "Feature_11: 0.0000\n",
      "Feature_12: 0.0000\n",
      "Feature_13: 0.0000\n",
      "Feature_14: 0.0000\n",
      "Feature_15: 0.0000\n",
      "Feature_16: 0.0000\n",
      "Feature_17: 0.0000\n"
     ]
    }
   ],
   "source": [
    "importances = feature_importance(test_loader, model, criterion, X_train, batch_size)\n",
    "print(\"Feature importances:\", importances)\n",
    "\n",
    "# Assuming X_train is a tensor with shape [n_samples, n_features]\n",
    "# Extract feature names or indices from your dataset\n",
    "feature_names = [f\"Feature_{i}\" for i in range(X_train.shape[1])]  # Replace with actual feature names if available\n",
    "\n",
    "# Pair feature names/indices with importances and sort them\n",
    "feature_importance_pairs = list(zip(feature_names, importances))\n",
    "sorted_feature_importance_pairs = sorted(feature_importance_pairs, key=lambda x: x[1], reverse=True)\n",
    "\n",
    "# Print the most important features\n",
    "print(\"\\nMost important features:\")\n",
    "for feature, importance in sorted_feature_importance_pairs:\n",
    "    print(f\"{feature}: {importance:.4f}\")\n"
   ]
  },
  {
   "cell_type": "code",
   "execution_count": 187,
   "id": "baf4f0d7",
   "metadata": {},
   "outputs": [
    {
     "data": {
      "image/png": "[encoded data removed]",
      "text/plain": [
       "<Figure size 640x480 with 1 Axes>"
      ]
     },
     "metadata": {},
     "output_type": "display_data"
    }
   ],
   "source": [
    "labels = [\"Borough\", \"Job Type\", \"Block\", \"Lot\", \"Zip Code\", \"Work Type\", \"Building Type\", \"Owner's Business Type\", \"Non-Profits\",\n",
    "          \"Latitude\", \"Longitude\", \"Council District\", \"Issuance Year\", \"Issuance Month\", \"Issuance Day\", \"Job Start Year\", \"Job Start Month\", \"Job Start Day\"]\n",
    " \n",
    "# Create a horizontal bar plot\n",
    "plt.barh(range(len(importances)), importances)\n",
    " \n",
    "# Set custom y-tick labels (since it's a horizontal bar plot)\n",
    "plt.yticks(range(len(importances)), labels)\n",
    " \n",
    "# Set the x-axis label (which represents the performance drop)\n",
    "plt.xlabel(\"Performance Drop\")\n",
    " \n",
    "# Set the y-axis label (which represents the feature name)\n",
    "plt.ylabel(\"Feature Name\")\n",
    " \n",
    "# Set the title of the plot\n",
    "plt.title(\"Feature Importance Analysis\")\n",
    " \n",
    "# Show the plot\n",
    "plt.tight_layout()  # Adjusts the plot to ensure everything fits without overlapping\n",
    "# plt.show()\n",
    "# plt.savefig(\"Feature Importance.png\", dpi=100)"
   ]
  }
 ],
 "metadata": {
  "kernelspec": {
   "display_name": "Python 3 (ipykernel)",
   "language": "python",
   "name": "python3"
  },
  "language_info": {
   "codemirror_mode": {
    "name": "ipython",
    "version": 3
   },
   "file_extension": ".py",
   "mimetype": "text/x-python",
   "name": "python",
   "nbconvert_exporter": "python",
   "pygments_lexer": "ipython3",
   "version": "3.10.9"
  }
 },
 "nbformat": 4,
 "nbformat_minor": 5
}
