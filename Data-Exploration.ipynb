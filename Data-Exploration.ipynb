{
 "cells": [
  {
   "cell_type": "code",
   "execution_count": 1,
   "metadata": {},
   "outputs": [
    {
     "name": "stderr",
     "output_type": "stream",
     "text": [
      "/Users/aaronlalala/opt/anaconda3/lib/python3.9/site-packages/pandas/core/computation/expressions.py:21: UserWarning: Pandas requires version '2.8.0' or newer of 'numexpr' (version '2.7.3' currently installed).\n",
      "  from pandas.core.computation.check import NUMEXPR_INSTALLED\n",
      "/Users/aaronlalala/opt/anaconda3/lib/python3.9/site-packages/pandas/core/arrays/masked.py:62: UserWarning: Pandas requires version '1.3.4' or newer of 'bottleneck' (version '1.3.2' currently installed).\n",
      "  from pandas.core import (\n"
     ]
    }
   ],
   "source": [
    "import pandas as pd\n",
    "import numpy as np"
   ]
  },
  {
   "cell_type": "code",
   "execution_count": 2,
   "metadata": {},
   "outputs": [
    {
     "data": {
      "text/html": [
       "<div>\n",
       "<style scoped>\n",
       "    .dataframe tbody tr th:only-of-type {\n",
       "        vertical-align: middle;\n",
       "    }\n",
       "\n",
       "    .dataframe tbody tr th {\n",
       "        vertical-align: top;\n",
       "    }\n",
       "\n",
       "    .dataframe thead th {\n",
       "        text-align: right;\n",
       "    }\n",
       "</style>\n",
       "<table border=\"1\" class=\"dataframe\">\n",
       "  <thead>\n",
       "    <tr style=\"text-align: right;\">\n",
       "      <th></th>\n",
       "      <th>borough</th>\n",
       "      <th>bin_#</th>\n",
       "      <th>house_#</th>\n",
       "      <th>street_name</th>\n",
       "      <th>job_#</th>\n",
       "      <th>job_doc._#</th>\n",
       "      <th>job_type</th>\n",
       "      <th>self_cert</th>\n",
       "      <th>block</th>\n",
       "      <th>lot</th>\n",
       "      <th>community_board</th>\n",
       "      <th>zip_code</th>\n",
       "      <th>bldg_type</th>\n",
       "      <th>residential</th>\n",
       "      <th>special_district_1</th>\n",
       "      <th>special_district_2</th>\n",
       "    </tr>\n",
       "  </thead>\n",
       "  <tbody>\n",
       "    <tr>\n",
       "      <th>0</th>\n",
       "      <td>BROOKLYN</td>\n",
       "      <td>3127307</td>\n",
       "      <td>814</td>\n",
       "      <td>DITMAS AVENUE</td>\n",
       "      <td>301068644</td>\n",
       "      <td>1</td>\n",
       "      <td>A3</td>\n",
       "      <td>NaN</td>\n",
       "      <td>05402</td>\n",
       "      <td>00006</td>\n",
       "      <td>312</td>\n",
       "      <td>11218.0</td>\n",
       "      <td>1.0</td>\n",
       "      <td>True</td>\n",
       "      <td>&lt;NA&gt;</td>\n",
       "      <td>&lt;NA&gt;</td>\n",
       "    </tr>\n",
       "    <tr>\n",
       "      <th>1</th>\n",
       "      <td>QUEENS</td>\n",
       "      <td>4295034</td>\n",
       "      <td>156-27</td>\n",
       "      <td>101 STREET</td>\n",
       "      <td>402062520</td>\n",
       "      <td>1</td>\n",
       "      <td>A1</td>\n",
       "      <td>NaN</td>\n",
       "      <td>14162</td>\n",
       "      <td>00047</td>\n",
       "      <td>410</td>\n",
       "      <td>11414.0</td>\n",
       "      <td>1.0</td>\n",
       "      <td>True</td>\n",
       "      <td>&lt;NA&gt;</td>\n",
       "      <td>&lt;NA&gt;</td>\n",
       "    </tr>\n",
       "    <tr>\n",
       "      <th>2</th>\n",
       "      <td>BROOKLYN</td>\n",
       "      <td>3009015</td>\n",
       "      <td>209</td>\n",
       "      <td>18TH STREET</td>\n",
       "      <td>320934487</td>\n",
       "      <td>1</td>\n",
       "      <td>A1</td>\n",
       "      <td>N</td>\n",
       "      <td>00631</td>\n",
       "      <td>00065</td>\n",
       "      <td>307</td>\n",
       "      <td>11215.0</td>\n",
       "      <td>1.0</td>\n",
       "      <td>True</td>\n",
       "      <td>&lt;NA&gt;</td>\n",
       "      <td>&lt;NA&gt;</td>\n",
       "    </tr>\n",
       "    <tr>\n",
       "      <th>3</th>\n",
       "      <td>QUEENS</td>\n",
       "      <td>4181643</td>\n",
       "      <td>84-05</td>\n",
       "      <td>FOREST PARKWAY</td>\n",
       "      <td>401838614</td>\n",
       "      <td>1</td>\n",
       "      <td>A1</td>\n",
       "      <td>Y</td>\n",
       "      <td>08858</td>\n",
       "      <td>00001</td>\n",
       "      <td>409</td>\n",
       "      <td>11421.0</td>\n",
       "      <td>1.0</td>\n",
       "      <td>True</td>\n",
       "      <td>&lt;NA&gt;</td>\n",
       "      <td>&lt;NA&gt;</td>\n",
       "    </tr>\n",
       "    <tr>\n",
       "      <th>4</th>\n",
       "      <td>BROOKLYN</td>\n",
       "      <td>3002691</td>\n",
       "      <td>36</td>\n",
       "      <td>SCHERMERHORN ST</td>\n",
       "      <td>321197735</td>\n",
       "      <td>1</td>\n",
       "      <td>A1</td>\n",
       "      <td>N</td>\n",
       "      <td>00270</td>\n",
       "      <td>00044</td>\n",
       "      <td>302</td>\n",
       "      <td>11201.0</td>\n",
       "      <td>1.0</td>\n",
       "      <td>True</td>\n",
       "      <td>LH-1</td>\n",
       "      <td>&lt;NA&gt;</td>\n",
       "    </tr>\n",
       "  </tbody>\n",
       "</table>\n",
       "</div>"
      ],
      "text/plain": [
       "    borough    bin_# house_#      street_name      job_# job_doc._# job_type  \\\n",
       "0  BROOKLYN  3127307     814    DITMAS AVENUE  301068644          1       A3   \n",
       "1    QUEENS  4295034  156-27       101 STREET  402062520          1       A1   \n",
       "2  BROOKLYN  3009015     209      18TH STREET  320934487          1       A1   \n",
       "3    QUEENS  4181643   84-05   FOREST PARKWAY  401838614          1       A1   \n",
       "4  BROOKLYN  3002691      36  SCHERMERHORN ST  321197735          1       A1   \n",
       "\n",
       "  self_cert  block    lot community_board zip_code bldg_type  residential  \\\n",
       "0       NaN  05402  00006             312  11218.0       1.0         True   \n",
       "1       NaN  14162  00047             410  11414.0       1.0         True   \n",
       "2         N  00631  00065             307  11215.0       1.0         True   \n",
       "3         Y  08858  00001             409  11421.0       1.0         True   \n",
       "4         N  00270  00044             302  11201.0       1.0         True   \n",
       "\n",
       "  special_district_1 special_district_2  \n",
       "0               <NA>               <NA>  \n",
       "1               <NA>               <NA>  \n",
       "2               <NA>               <NA>  \n",
       "3               <NA>               <NA>  \n",
       "4               LH-1               <NA>  "
      ]
     },
     "execution_count": 2,
     "metadata": {},
     "output_type": "execute_result"
    }
   ],
   "source": [
    "sub_cols = ['borough', 'bin_#', 'house_#', 'street_name', 'job_#', 'job_doc._#',\n",
    "       'job_type', 'self_cert', 'block', 'lot', 'community_board', 'zip_code',\n",
    "       'bldg_type', 'residential', 'special_district_1', 'special_district_2']\n",
    "df = pd.read_pickle(\"Data/Rawdata/debug_data.pkl\").loc[:, sub_cols]\n",
    "df.head()"
   ]
  },
  {
   "cell_type": "code",
   "execution_count": 3,
   "metadata": {},
   "outputs": [
    {
     "data": {
      "text/plain": [
       "borough                   5\n",
       "bin_#                 30153\n",
       "house_#                9113\n",
       "street_name            7590\n",
       "job_#                 38773\n",
       "job_doc._#                8\n",
       "job_type                  6\n",
       "self_cert                 2\n",
       "block                  8649\n",
       "lot                     656\n",
       "community_board          71\n",
       "zip_code                220\n",
       "bldg_type                 2\n",
       "residential               1\n",
       "special_district_1       76\n",
       "special_district_2        2\n",
       "dtype: int64"
      ]
     },
     "execution_count": 3,
     "metadata": {},
     "output_type": "execute_result"
    }
   ],
   "source": [
    "df.nunique()\n"
   ]
  },
  {
   "cell_type": "code",
   "execution_count": 4,
   "metadata": {},
   "outputs": [
    {
     "data": {
      "text/plain": [
       "borough                   0\n",
       "bin_#                     0\n",
       "house_#                   0\n",
       "street_name               0\n",
       "job_#                     0\n",
       "job_doc._#                0\n",
       "job_type                  0\n",
       "self_cert             13277\n",
       "block                     0\n",
       "lot                       0\n",
       "community_board          22\n",
       "zip_code                 20\n",
       "bldg_type               564\n",
       "residential               0\n",
       "special_district_1    35033\n",
       "special_district_2    39516\n",
       "dtype: int64"
      ]
     },
     "execution_count": 4,
     "metadata": {},
     "output_type": "execute_result"
    }
   ],
   "source": [
    "df.isna().sum()"
   ]
  },
  {
   "cell_type": "markdown",
   "metadata": {},
   "source": [
    "# Fill Missing Values"
   ]
  },
  {
   "cell_type": "markdown",
   "metadata": {},
   "source": [
    "## Fill Special District"
   ]
  },
  {
   "cell_type": "code",
   "execution_count": 5,
   "metadata": {},
   "outputs": [],
   "source": [
    "# If observation does not have a value in sepcial value columne, it's not special\n",
    "df[\"special_district_1\"] = df[\"special_district_1\"].fillna(\"not special\")\n",
    "df[\"special_district_2\"] = df[\"special_district_2\"].fillna(\"not special\")"
   ]
  },
  {
   "cell_type": "markdown",
   "metadata": {},
   "source": [
    "## Fill Zip Code, Building Type and Community Board"
   ]
  },
  {
   "cell_type": "code",
   "execution_count": 6,
   "metadata": {},
   "outputs": [],
   "source": [
    "cols_to_fill = [\"zip_code\", \"community_board\", \"bldg_type\"]"
   ]
  },
  {
   "cell_type": "code",
   "execution_count": 7,
   "metadata": {},
   "outputs": [
    {
     "name": "stderr",
     "output_type": "stream",
     "text": [
      "/var/folders/hv/2w2wpkpx6lb6tcqy89s4bw040000gn/T/ipykernel_20400/882628502.py:2: FutureWarning: The default of observed=False is deprecated and will be changed to True in a future version of pandas. Pass observed=False to retain current behavior or observed=True to adopt the future default and silence this warning.\n",
      "  df[\"zip_code\"] = df.groupby('borough')['zip_code'].transform(lambda x: x.fillna(x.mode().iloc[0]))\n"
     ]
    }
   ],
   "source": [
    "# Fill the empty zip_code with the most common zip_code at that borough.\n",
    "df[\"zip_code\"] = df.groupby('borough')['zip_code'].transform(lambda x: x.fillna(x.mode().iloc[0]))"
   ]
  },
  {
   "cell_type": "code",
   "execution_count": 8,
   "metadata": {},
   "outputs": [
    {
     "name": "stderr",
     "output_type": "stream",
     "text": [
      "/var/folders/hv/2w2wpkpx6lb6tcqy89s4bw040000gn/T/ipykernel_20400/3811248836.py:1: FutureWarning: The default of observed=False is deprecated and will be changed to True in a future version of pandas. Pass observed=False to retain current behavior or observed=True to adopt the future default and silence this warning.\n",
      "  df[\"community_board\"] = df.groupby('borough')['community_board'].transform(lambda x: x.fillna(x.mode().iloc[0]))\n"
     ]
    }
   ],
   "source": [
    "df[\"community_board\"] = df.groupby('borough')['community_board'].transform(lambda x: x.fillna(x.mode().iloc[0]))"
   ]
  },
  {
   "cell_type": "code",
   "execution_count": 9,
   "metadata": {},
   "outputs": [
    {
     "name": "stderr",
     "output_type": "stream",
     "text": [
      "/var/folders/hv/2w2wpkpx6lb6tcqy89s4bw040000gn/T/ipykernel_20400/3100922927.py:1: FutureWarning: The default of observed=False is deprecated and will be changed to True in a future version of pandas. Pass observed=False to retain current behavior or observed=True to adopt the future default and silence this warning.\n",
      "  df[\"bldg_type\"] = df.groupby('borough')['bldg_type'].transform(lambda x: x.fillna(x.mode().iloc[0]))\n"
     ]
    }
   ],
   "source": [
    "df[\"bldg_type\"] = df.groupby('borough')['bldg_type'].transform(lambda x: x.fillna(x.mode().iloc[0]))"
   ]
  },
  {
   "cell_type": "code",
   "execution_count": 10,
   "metadata": {},
   "outputs": [
    {
     "data": {
      "text/plain": [
       "borough                   0\n",
       "bin_#                     0\n",
       "house_#                   0\n",
       "street_name               0\n",
       "job_#                     0\n",
       "job_doc._#                0\n",
       "job_type                  0\n",
       "self_cert             13277\n",
       "block                     0\n",
       "lot                       0\n",
       "community_board           0\n",
       "zip_code                  0\n",
       "bldg_type                 0\n",
       "residential               0\n",
       "special_district_1        0\n",
       "special_district_2        0\n",
       "dtype: int64"
      ]
     },
     "execution_count": 10,
     "metadata": {},
     "output_type": "execute_result"
    }
   ],
   "source": [
    "df.isna().sum()"
   ]
  },
  {
   "cell_type": "markdown",
   "metadata": {},
   "source": [
    "## Drop self_cert"
   ]
  },
  {
   "cell_type": "code",
   "execution_count": 14,
   "metadata": {},
   "outputs": [],
   "source": [
    "# Because there are too many self_cert are empty. And we don't have enough information to fill that.\n",
    "df = df.drop(columns=[\"self_cert\"])"
   ]
  },
  {
   "cell_type": "code",
   "execution_count": 15,
   "metadata": {},
   "outputs": [
    {
     "data": {
      "text/html": [
       "<div>\n",
       "<style scoped>\n",
       "    .dataframe tbody tr th:only-of-type {\n",
       "        vertical-align: middle;\n",
       "    }\n",
       "\n",
       "    .dataframe tbody tr th {\n",
       "        vertical-align: top;\n",
       "    }\n",
       "\n",
       "    .dataframe thead th {\n",
       "        text-align: right;\n",
       "    }\n",
       "</style>\n",
       "<table border=\"1\" class=\"dataframe\">\n",
       "  <thead>\n",
       "    <tr style=\"text-align: right;\">\n",
       "      <th></th>\n",
       "      <th>borough</th>\n",
       "      <th>bin_#</th>\n",
       "      <th>house_#</th>\n",
       "      <th>street_name</th>\n",
       "      <th>job_#</th>\n",
       "      <th>job_doc._#</th>\n",
       "      <th>job_type</th>\n",
       "      <th>block</th>\n",
       "      <th>lot</th>\n",
       "      <th>community_board</th>\n",
       "      <th>zip_code</th>\n",
       "      <th>bldg_type</th>\n",
       "      <th>residential</th>\n",
       "      <th>special_district_1</th>\n",
       "      <th>special_district_2</th>\n",
       "    </tr>\n",
       "  </thead>\n",
       "  <tbody>\n",
       "    <tr>\n",
       "      <th>0</th>\n",
       "      <td>BROOKLYN</td>\n",
       "      <td>3127307</td>\n",
       "      <td>814</td>\n",
       "      <td>DITMAS AVENUE</td>\n",
       "      <td>301068644</td>\n",
       "      <td>1</td>\n",
       "      <td>A3</td>\n",
       "      <td>05402</td>\n",
       "      <td>00006</td>\n",
       "      <td>312</td>\n",
       "      <td>11218.0</td>\n",
       "      <td>1.0</td>\n",
       "      <td>True</td>\n",
       "      <td>not special</td>\n",
       "      <td>not special</td>\n",
       "    </tr>\n",
       "    <tr>\n",
       "      <th>1</th>\n",
       "      <td>QUEENS</td>\n",
       "      <td>4295034</td>\n",
       "      <td>156-27</td>\n",
       "      <td>101 STREET</td>\n",
       "      <td>402062520</td>\n",
       "      <td>1</td>\n",
       "      <td>A1</td>\n",
       "      <td>14162</td>\n",
       "      <td>00047</td>\n",
       "      <td>410</td>\n",
       "      <td>11414.0</td>\n",
       "      <td>1.0</td>\n",
       "      <td>True</td>\n",
       "      <td>not special</td>\n",
       "      <td>not special</td>\n",
       "    </tr>\n",
       "    <tr>\n",
       "      <th>2</th>\n",
       "      <td>BROOKLYN</td>\n",
       "      <td>3009015</td>\n",
       "      <td>209</td>\n",
       "      <td>18TH STREET</td>\n",
       "      <td>320934487</td>\n",
       "      <td>1</td>\n",
       "      <td>A1</td>\n",
       "      <td>00631</td>\n",
       "      <td>00065</td>\n",
       "      <td>307</td>\n",
       "      <td>11215.0</td>\n",
       "      <td>1.0</td>\n",
       "      <td>True</td>\n",
       "      <td>not special</td>\n",
       "      <td>not special</td>\n",
       "    </tr>\n",
       "    <tr>\n",
       "      <th>3</th>\n",
       "      <td>QUEENS</td>\n",
       "      <td>4181643</td>\n",
       "      <td>84-05</td>\n",
       "      <td>FOREST PARKWAY</td>\n",
       "      <td>401838614</td>\n",
       "      <td>1</td>\n",
       "      <td>A1</td>\n",
       "      <td>08858</td>\n",
       "      <td>00001</td>\n",
       "      <td>409</td>\n",
       "      <td>11421.0</td>\n",
       "      <td>1.0</td>\n",
       "      <td>True</td>\n",
       "      <td>not special</td>\n",
       "      <td>not special</td>\n",
       "    </tr>\n",
       "    <tr>\n",
       "      <th>4</th>\n",
       "      <td>BROOKLYN</td>\n",
       "      <td>3002691</td>\n",
       "      <td>36</td>\n",
       "      <td>SCHERMERHORN ST</td>\n",
       "      <td>321197735</td>\n",
       "      <td>1</td>\n",
       "      <td>A1</td>\n",
       "      <td>00270</td>\n",
       "      <td>00044</td>\n",
       "      <td>302</td>\n",
       "      <td>11201.0</td>\n",
       "      <td>1.0</td>\n",
       "      <td>True</td>\n",
       "      <td>LH-1</td>\n",
       "      <td>not special</td>\n",
       "    </tr>\n",
       "  </tbody>\n",
       "</table>\n",
       "</div>"
      ],
      "text/plain": [
       "    borough    bin_# house_#      street_name      job_# job_doc._# job_type  \\\n",
       "0  BROOKLYN  3127307     814    DITMAS AVENUE  301068644          1       A3   \n",
       "1    QUEENS  4295034  156-27       101 STREET  402062520          1       A1   \n",
       "2  BROOKLYN  3009015     209      18TH STREET  320934487          1       A1   \n",
       "3    QUEENS  4181643   84-05   FOREST PARKWAY  401838614          1       A1   \n",
       "4  BROOKLYN  3002691      36  SCHERMERHORN ST  321197735          1       A1   \n",
       "\n",
       "   block    lot community_board zip_code bldg_type  residential  \\\n",
       "0  05402  00006             312  11218.0       1.0         True   \n",
       "1  14162  00047             410  11414.0       1.0         True   \n",
       "2  00631  00065             307  11215.0       1.0         True   \n",
       "3  08858  00001             409  11421.0       1.0         True   \n",
       "4  00270  00044             302  11201.0       1.0         True   \n",
       "\n",
       "  special_district_1 special_district_2  \n",
       "0        not special        not special  \n",
       "1        not special        not special  \n",
       "2        not special        not special  \n",
       "3        not special        not special  \n",
       "4               LH-1        not special  "
      ]
     },
     "execution_count": 15,
     "metadata": {},
     "output_type": "execute_result"
    }
   ],
   "source": [
    "df.head()"
   ]
  },
  {
   "cell_type": "code",
   "execution_count": null,
   "metadata": {},
   "outputs": [],
   "source": []
  }
 ],
 "metadata": {
  "kernelspec": {
   "display_name": "base",
   "language": "python",
   "name": "python3"
  },
  "language_info": {
   "codemirror_mode": {
    "name": "ipython",
    "version": 3
   },
   "file_extension": ".py",
   "mimetype": "text/x-python",
   "name": "python",
   "nbconvert_exporter": "python",
   "pygments_lexer": "ipython3",
   "version": "3.9.7"
  }
 },
 "nbformat": 4,
 "nbformat_minor": 2
}
